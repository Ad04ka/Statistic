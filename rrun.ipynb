{
 "cells": [
  {
   "cell_type": "code",
   "execution_count": 1,
   "metadata": {
    "vscode": {
     "languageId": "r"
    }
   },
   "outputs": [
    {
     "name": "stderr",
     "output_type": "stream",
     "text": [
      "Warning message:\n",
      "“package ‘tidyverse’ was built under R version 4.3.3”\n",
      "── \u001b[1mAttaching core tidyverse packages\u001b[22m ──────────────────────── tidyverse 2.0.0 ──\n",
      "\u001b[32m✔\u001b[39m \u001b[34mdplyr    \u001b[39m 1.1.3     \u001b[32m✔\u001b[39m \u001b[34mreadr    \u001b[39m 2.1.4\n",
      "\u001b[32m✔\u001b[39m \u001b[34mforcats  \u001b[39m 1.0.0     \u001b[32m✔\u001b[39m \u001b[34mstringr  \u001b[39m 1.5.0\n",
      "\u001b[32m✔\u001b[39m \u001b[34mggplot2  \u001b[39m 3.4.4     \u001b[32m✔\u001b[39m \u001b[34mtibble   \u001b[39m 3.2.1\n",
      "\u001b[32m✔\u001b[39m \u001b[34mlubridate\u001b[39m 1.9.3     \u001b[32m✔\u001b[39m \u001b[34mtidyr    \u001b[39m 1.3.0\n",
      "\u001b[32m✔\u001b[39m \u001b[34mpurrr    \u001b[39m 1.0.2     \n",
      "── \u001b[1mConflicts\u001b[22m ────────────────────────────────────────── tidyverse_conflicts() ──\n",
      "\u001b[31m✖\u001b[39m \u001b[34mdplyr\u001b[39m::\u001b[32mfilter()\u001b[39m masks \u001b[34mstats\u001b[39m::filter()\n",
      "\u001b[31m✖\u001b[39m \u001b[34mdplyr\u001b[39m::\u001b[32mlag()\u001b[39m    masks \u001b[34mstats\u001b[39m::lag()\n",
      "\u001b[36mℹ\u001b[39m Use the conflicted package (\u001b[3m\u001b[34m<http://conflicted.r-lib.org/>\u001b[39m\u001b[23m) to force all conflicts to become errors\n",
      "Warning message:\n",
      "“package ‘car’ was built under R version 4.3.3”\n",
      "Loading required package: carData\n",
      "\n",
      "Warning message:\n",
      "“package ‘carData’ was built under R version 4.3.3”\n",
      "\n",
      "Attaching package: ‘car’\n",
      "\n",
      "\n",
      "The following object is masked from ‘package:dplyr’:\n",
      "\n",
      "    recode\n",
      "\n",
      "\n",
      "The following object is masked from ‘package:purrr’:\n",
      "\n",
      "    some\n",
      "\n",
      "\n"
     ]
    }
   ],
   "source": [
    "library(tidyverse)\n",
    "library(ggplot2)\n",
    "library(readxl)\n",
    "library(gapminder)\n",
    "library(car)"
   ]
  },
  {
   "cell_type": "code",
   "execution_count": 2,
   "metadata": {
    "vscode": {
     "languageId": "r"
    }
   },
   "outputs": [
    {
     "data": {
      "text/html": [
       "<table class=\"dataframe\">\n",
       "<caption>A data.frame: 85 × 7</caption>\n",
       "<thead>\n",
       "\t<tr><th scope=col>V1</th><th scope=col>V2</th><th scope=col>V3</th><th scope=col>V4</th><th scope=col>V5</th><th scope=col>V6</th><th scope=col>V7</th></tr>\n",
       "\t<tr><th scope=col>&lt;chr&gt;</th><th scope=col>&lt;chr&gt;</th><th scope=col>&lt;chr&gt;</th><th scope=col>&lt;chr&gt;</th><th scope=col>&lt;chr&gt;</th><th scope=col>&lt;chr&gt;</th><th scope=col>&lt;chr&gt;</th></tr>\n",
       "</thead>\n",
       "<tbody>\n",
       "\t<tr><td>Price</td><td>ComfortZone</td><td>Shell</td><td>Filling  </td><td>Length</td><td>Type   </td><td>Weight</td></tr>\n",
       "\t<tr><td>65990</td><td>-40        </td><td>N    </td><td>Combi    </td><td>215   </td><td>Extreme</td><td>2,08  </td></tr>\n",
       "\t<tr><td>34650</td><td>-8         </td><td>Y    </td><td>Down     </td><td>215   </td><td>Tourist</td><td>1,01  </td></tr>\n",
       "\t<tr><td>31450</td><td>-8         </td><td>N    </td><td>Down     </td><td>215   </td><td>Tourist</td><td>1,105 </td></tr>\n",
       "\t<tr><td>16700</td><td>-1         </td><td>N    </td><td>Down     </td><td>215   </td><td>Tourist</td><td>0,582 </td></tr>\n",
       "\t<tr><td>36700</td><td>-16        </td><td>N    </td><td>Down     </td><td>215   </td><td>Tourist</td><td>1,48  </td></tr>\n",
       "\t<tr><td>71500</td><td>-23        </td><td>Y    </td><td>Down     </td><td>205   </td><td>Extreme</td><td>1,49  </td></tr>\n",
       "\t<tr><td>34000</td><td>-8         </td><td>N    </td><td>Down     </td><td>220   </td><td>Tourist</td><td>1,24  </td></tr>\n",
       "\t<tr><td>23990</td><td>1          </td><td>N    </td><td>Down     </td><td>215   </td><td>Tourist</td><td>1,13  </td></tr>\n",
       "\t<tr><td>30350</td><td>-8         </td><td>N    </td><td>Down     </td><td>200   </td><td>Tourist</td><td>1,07  </td></tr>\n",
       "\t<tr><td>13000</td><td>3          </td><td>N    </td><td>Down     </td><td>185   </td><td>Tourist</td><td>0,359 </td></tr>\n",
       "\t<tr><td>63990</td><td>-40        </td><td>N    </td><td>Combi    </td><td>200   </td><td>Extreme</td><td>2,03  </td></tr>\n",
       "\t<tr><td>51600</td><td>-35        </td><td>Y    </td><td>Down     </td><td>205   </td><td>Extreme</td><td>2,02  </td></tr>\n",
       "\t<tr><td>22600</td><td>1          </td><td>N    </td><td>Down     </td><td>200   </td><td>Tourist</td><td>0,855 </td></tr>\n",
       "\t<tr><td>35700</td><td>-22        </td><td>Y    </td><td>Down     </td><td>200   </td><td>Tourist</td><td>1,566 </td></tr>\n",
       "\t<tr><td>33500</td><td>-18        </td><td>N    </td><td>Down     </td><td>200   </td><td>Tourist</td><td>1,53  </td></tr>\n",
       "\t<tr><td>30350</td><td>-1         </td><td>Y    </td><td>Down     </td><td>200   </td><td>Tourist</td><td>0,815 </td></tr>\n",
       "\t<tr><td>39200</td><td>-22        </td><td>Y    </td><td>Down     </td><td>215   </td><td>Tourist</td><td>1,785 </td></tr>\n",
       "\t<tr><td>23720</td><td>-5         </td><td>N    </td><td>Down     </td><td>195   </td><td>Tourist</td><td>0,79  </td></tr>\n",
       "\t<tr><td>44350</td><td>-19        </td><td>Y    </td><td>Down     </td><td>200   </td><td>Tourist</td><td>1,59  </td></tr>\n",
       "\t<tr><td>30500</td><td>-12        </td><td>N    </td><td>Down     </td><td>180   </td><td>Tourist</td><td>1,265 </td></tr>\n",
       "\t<tr><td>16800</td><td>-8         </td><td>N    </td><td>Synthetic</td><td>200   </td><td>Tourist</td><td>1,46  </td></tr>\n",
       "\t<tr><td>89650</td><td>-30        </td><td>N    </td><td>Down     </td><td>210   </td><td>Extreme</td><td>1,625 </td></tr>\n",
       "\t<tr><td>16420</td><td>-7         </td><td>N    </td><td>Synthetic</td><td>215   </td><td>Tourist</td><td>1,105 </td></tr>\n",
       "\t<tr><td>33500</td><td>-11        </td><td>N    </td><td>Down     </td><td>200   </td><td>Tourist</td><td>1,26  </td></tr>\n",
       "\t<tr><td>46500</td><td>-19        </td><td>Y    </td><td>Down     </td><td>205   </td><td>Tourist</td><td>1,65  </td></tr>\n",
       "\t<tr><td>12550</td><td>4          </td><td>N    </td><td>Synthetic</td><td>215   </td><td>Tourist</td><td>0,85  </td></tr>\n",
       "\t<tr><td>74500</td><td>-23        </td><td>Y    </td><td>Down     </td><td>220   </td><td>Extreme</td><td>1,53  </td></tr>\n",
       "\t<tr><td>18850</td><td>7          </td><td>N    </td><td>Down     </td><td>210   </td><td>Tourist</td><td>0,45  </td></tr>\n",
       "\t<tr><td>27550</td><td>-6         </td><td>N    </td><td>Down     </td><td>215   </td><td>Tourist</td><td>0,95  </td></tr>\n",
       "\t<tr><td>⋮</td><td>⋮</td><td>⋮</td><td>⋮</td><td>⋮</td><td>⋮</td><td>⋮</td></tr>\n",
       "\t<tr><td>74900</td><td>-23</td><td>N</td><td>Down     </td><td>215</td><td>Extreme</td><td>1,9  </td></tr>\n",
       "\t<tr><td>40400</td><td>-40</td><td>Y</td><td>Down     </td><td>220</td><td>Extreme</td><td>1,884</td></tr>\n",
       "\t<tr><td>31900</td><td>-11</td><td>N</td><td>Down     </td><td>215</td><td>Tourist</td><td>1,15 </td></tr>\n",
       "\t<tr><td>76000</td><td>-30</td><td>N</td><td>Down     </td><td>205</td><td>Extreme</td><td>1,62 </td></tr>\n",
       "\t<tr><td>32490</td><td>-17</td><td>N</td><td>Down     </td><td>215</td><td>Tourist</td><td>1,58 </td></tr>\n",
       "\t<tr><td>78700</td><td>-30</td><td>Y</td><td>Down     </td><td>220</td><td>Extreme</td><td>1,695</td></tr>\n",
       "\t<tr><td>23950</td><td>3  </td><td>N</td><td>Down     </td><td>200</td><td>Tourist</td><td>0,705</td></tr>\n",
       "\t<tr><td>85300</td><td>-45</td><td>Y</td><td>Down     </td><td>205</td><td>Extreme</td><td>1,98 </td></tr>\n",
       "\t<tr><td>17650</td><td>-8 </td><td>N</td><td>Synthetic</td><td>215</td><td>Tourist</td><td>1,645</td></tr>\n",
       "\t<tr><td>44600</td><td>-40</td><td>Y</td><td>Down     </td><td>215</td><td>Extreme</td><td>2,135</td></tr>\n",
       "\t<tr><td>55400</td><td>-35</td><td>Y</td><td>Down     </td><td>220</td><td>Extreme</td><td>2,1  </td></tr>\n",
       "\t<tr><td>19800</td><td>-10</td><td>N</td><td>Synthetic</td><td>215</td><td>Tourist</td><td>1,5  </td></tr>\n",
       "\t<tr><td>23450</td><td>1  </td><td>N</td><td>Down     </td><td>215</td><td>Tourist</td><td>0,87 </td></tr>\n",
       "\t<tr><td>31450</td><td>-1 </td><td>Y</td><td>Down     </td><td>215</td><td>Tourist</td><td>0,83 </td></tr>\n",
       "\t<tr><td>23200</td><td>-2 </td><td>N</td><td>Down     </td><td>215</td><td>Tourist</td><td>0,76 </td></tr>\n",
       "\t<tr><td>28100</td><td>-15</td><td>Y</td><td>Down     </td><td>200</td><td>Tourist</td><td>1,157</td></tr>\n",
       "\t<tr><td>35790</td><td>-17</td><td>N</td><td>Down     </td><td>195</td><td>Tourist</td><td>1,513</td></tr>\n",
       "\t<tr><td>34850</td><td>-16</td><td>N</td><td>Down     </td><td>190</td><td>Tourist</td><td>1,52 </td></tr>\n",
       "\t<tr><td>14100</td><td>3  </td><td>N</td><td>Down     </td><td>200</td><td>Tourist</td><td>0,406</td></tr>\n",
       "\t<tr><td>34950</td><td>-11</td><td>N</td><td>Down     </td><td>215</td><td>Tourist</td><td>1,305</td></tr>\n",
       "\t<tr><td>36700</td><td>-25</td><td>N</td><td>Down     </td><td>200</td><td>Tourist</td><td>1,59 </td></tr>\n",
       "\t<tr><td>16800</td><td>-3 </td><td>N</td><td>Synthetic</td><td>205</td><td>Tourist</td><td>1,32 </td></tr>\n",
       "\t<tr><td>15300</td><td>3  </td><td>N</td><td>Down     </td><td>215</td><td>Tourist</td><td>0,47 </td></tr>\n",
       "\t<tr><td>30500</td><td>-8 </td><td>N</td><td>Down     </td><td>200</td><td>Tourist</td><td>1,27 </td></tr>\n",
       "\t<tr><td>25900</td><td>-10</td><td>N</td><td>Down     </td><td>200</td><td>Tourist</td><td>0,862</td></tr>\n",
       "\t<tr><td>24900</td><td>3  </td><td>N</td><td>Down     </td><td>215</td><td>Tourist</td><td>0,72 </td></tr>\n",
       "\t<tr><td>13050</td><td>-3 </td><td>N</td><td>Synthetic</td><td>215</td><td>Tourist</td><td>1,1  </td></tr>\n",
       "\t<tr><td>48990</td><td>-25</td><td>N</td><td>Down     </td><td>200</td><td>Extreme</td><td>1,78 </td></tr>\n",
       "\t<tr><td>21900</td><td>1  </td><td>N</td><td>Down     </td><td>200</td><td>Tourist</td><td>0,98 </td></tr>\n",
       "\t<tr><td>33600</td><td>-8 </td><td>N</td><td>Down     </td><td>230</td><td>Tourist</td><td>1,335</td></tr>\n",
       "</tbody>\n",
       "</table>\n"
      ],
      "text/latex": [
       "A data.frame: 85 × 7\n",
       "\\begin{tabular}{lllllll}\n",
       " V1 & V2 & V3 & V4 & V5 & V6 & V7\\\\\n",
       " <chr> & <chr> & <chr> & <chr> & <chr> & <chr> & <chr>\\\\\n",
       "\\hline\n",
       "\t Price & ComfortZone & Shell & Filling   & Length & Type    & Weight\\\\\n",
       "\t 65990 & -40         & N     & Combi     & 215    & Extreme & 2,08  \\\\\n",
       "\t 34650 & -8          & Y     & Down      & 215    & Tourist & 1,01  \\\\\n",
       "\t 31450 & -8          & N     & Down      & 215    & Tourist & 1,105 \\\\\n",
       "\t 16700 & -1          & N     & Down      & 215    & Tourist & 0,582 \\\\\n",
       "\t 36700 & -16         & N     & Down      & 215    & Tourist & 1,48  \\\\\n",
       "\t 71500 & -23         & Y     & Down      & 205    & Extreme & 1,49  \\\\\n",
       "\t 34000 & -8          & N     & Down      & 220    & Tourist & 1,24  \\\\\n",
       "\t 23990 & 1           & N     & Down      & 215    & Tourist & 1,13  \\\\\n",
       "\t 30350 & -8          & N     & Down      & 200    & Tourist & 1,07  \\\\\n",
       "\t 13000 & 3           & N     & Down      & 185    & Tourist & 0,359 \\\\\n",
       "\t 63990 & -40         & N     & Combi     & 200    & Extreme & 2,03  \\\\\n",
       "\t 51600 & -35         & Y     & Down      & 205    & Extreme & 2,02  \\\\\n",
       "\t 22600 & 1           & N     & Down      & 200    & Tourist & 0,855 \\\\\n",
       "\t 35700 & -22         & Y     & Down      & 200    & Tourist & 1,566 \\\\\n",
       "\t 33500 & -18         & N     & Down      & 200    & Tourist & 1,53  \\\\\n",
       "\t 30350 & -1          & Y     & Down      & 200    & Tourist & 0,815 \\\\\n",
       "\t 39200 & -22         & Y     & Down      & 215    & Tourist & 1,785 \\\\\n",
       "\t 23720 & -5          & N     & Down      & 195    & Tourist & 0,79  \\\\\n",
       "\t 44350 & -19         & Y     & Down      & 200    & Tourist & 1,59  \\\\\n",
       "\t 30500 & -12         & N     & Down      & 180    & Tourist & 1,265 \\\\\n",
       "\t 16800 & -8          & N     & Synthetic & 200    & Tourist & 1,46  \\\\\n",
       "\t 89650 & -30         & N     & Down      & 210    & Extreme & 1,625 \\\\\n",
       "\t 16420 & -7          & N     & Synthetic & 215    & Tourist & 1,105 \\\\\n",
       "\t 33500 & -11         & N     & Down      & 200    & Tourist & 1,26  \\\\\n",
       "\t 46500 & -19         & Y     & Down      & 205    & Tourist & 1,65  \\\\\n",
       "\t 12550 & 4           & N     & Synthetic & 215    & Tourist & 0,85  \\\\\n",
       "\t 74500 & -23         & Y     & Down      & 220    & Extreme & 1,53  \\\\\n",
       "\t 18850 & 7           & N     & Down      & 210    & Tourist & 0,45  \\\\\n",
       "\t 27550 & -6          & N     & Down      & 215    & Tourist & 0,95  \\\\\n",
       "\t ⋮ & ⋮ & ⋮ & ⋮ & ⋮ & ⋮ & ⋮\\\\\n",
       "\t 74900 & -23 & N & Down      & 215 & Extreme & 1,9  \\\\\n",
       "\t 40400 & -40 & Y & Down      & 220 & Extreme & 1,884\\\\\n",
       "\t 31900 & -11 & N & Down      & 215 & Tourist & 1,15 \\\\\n",
       "\t 76000 & -30 & N & Down      & 205 & Extreme & 1,62 \\\\\n",
       "\t 32490 & -17 & N & Down      & 215 & Tourist & 1,58 \\\\\n",
       "\t 78700 & -30 & Y & Down      & 220 & Extreme & 1,695\\\\\n",
       "\t 23950 & 3   & N & Down      & 200 & Tourist & 0,705\\\\\n",
       "\t 85300 & -45 & Y & Down      & 205 & Extreme & 1,98 \\\\\n",
       "\t 17650 & -8  & N & Synthetic & 215 & Tourist & 1,645\\\\\n",
       "\t 44600 & -40 & Y & Down      & 215 & Extreme & 2,135\\\\\n",
       "\t 55400 & -35 & Y & Down      & 220 & Extreme & 2,1  \\\\\n",
       "\t 19800 & -10 & N & Synthetic & 215 & Tourist & 1,5  \\\\\n",
       "\t 23450 & 1   & N & Down      & 215 & Tourist & 0,87 \\\\\n",
       "\t 31450 & -1  & Y & Down      & 215 & Tourist & 0,83 \\\\\n",
       "\t 23200 & -2  & N & Down      & 215 & Tourist & 0,76 \\\\\n",
       "\t 28100 & -15 & Y & Down      & 200 & Tourist & 1,157\\\\\n",
       "\t 35790 & -17 & N & Down      & 195 & Tourist & 1,513\\\\\n",
       "\t 34850 & -16 & N & Down      & 190 & Tourist & 1,52 \\\\\n",
       "\t 14100 & 3   & N & Down      & 200 & Tourist & 0,406\\\\\n",
       "\t 34950 & -11 & N & Down      & 215 & Tourist & 1,305\\\\\n",
       "\t 36700 & -25 & N & Down      & 200 & Tourist & 1,59 \\\\\n",
       "\t 16800 & -3  & N & Synthetic & 205 & Tourist & 1,32 \\\\\n",
       "\t 15300 & 3   & N & Down      & 215 & Tourist & 0,47 \\\\\n",
       "\t 30500 & -8  & N & Down      & 200 & Tourist & 1,27 \\\\\n",
       "\t 25900 & -10 & N & Down      & 200 & Tourist & 0,862\\\\\n",
       "\t 24900 & 3   & N & Down      & 215 & Tourist & 0,72 \\\\\n",
       "\t 13050 & -3  & N & Synthetic & 215 & Tourist & 1,1  \\\\\n",
       "\t 48990 & -25 & N & Down      & 200 & Extreme & 1,78 \\\\\n",
       "\t 21900 & 1   & N & Down      & 200 & Tourist & 0,98 \\\\\n",
       "\t 33600 & -8  & N & Down      & 230 & Tourist & 1,335\\\\\n",
       "\\end{tabular}\n"
      ],
      "text/markdown": [
       "\n",
       "A data.frame: 85 × 7\n",
       "\n",
       "| V1 &lt;chr&gt; | V2 &lt;chr&gt; | V3 &lt;chr&gt; | V4 &lt;chr&gt; | V5 &lt;chr&gt; | V6 &lt;chr&gt; | V7 &lt;chr&gt; |\n",
       "|---|---|---|---|---|---|---|\n",
       "| Price | ComfortZone | Shell | Filling   | Length | Type    | Weight |\n",
       "| 65990 | -40         | N     | Combi     | 215    | Extreme | 2,08   |\n",
       "| 34650 | -8          | Y     | Down      | 215    | Tourist | 1,01   |\n",
       "| 31450 | -8          | N     | Down      | 215    | Tourist | 1,105  |\n",
       "| 16700 | -1          | N     | Down      | 215    | Tourist | 0,582  |\n",
       "| 36700 | -16         | N     | Down      | 215    | Tourist | 1,48   |\n",
       "| 71500 | -23         | Y     | Down      | 205    | Extreme | 1,49   |\n",
       "| 34000 | -8          | N     | Down      | 220    | Tourist | 1,24   |\n",
       "| 23990 | 1           | N     | Down      | 215    | Tourist | 1,13   |\n",
       "| 30350 | -8          | N     | Down      | 200    | Tourist | 1,07   |\n",
       "| 13000 | 3           | N     | Down      | 185    | Tourist | 0,359  |\n",
       "| 63990 | -40         | N     | Combi     | 200    | Extreme | 2,03   |\n",
       "| 51600 | -35         | Y     | Down      | 205    | Extreme | 2,02   |\n",
       "| 22600 | 1           | N     | Down      | 200    | Tourist | 0,855  |\n",
       "| 35700 | -22         | Y     | Down      | 200    | Tourist | 1,566  |\n",
       "| 33500 | -18         | N     | Down      | 200    | Tourist | 1,53   |\n",
       "| 30350 | -1          | Y     | Down      | 200    | Tourist | 0,815  |\n",
       "| 39200 | -22         | Y     | Down      | 215    | Tourist | 1,785  |\n",
       "| 23720 | -5          | N     | Down      | 195    | Tourist | 0,79   |\n",
       "| 44350 | -19         | Y     | Down      | 200    | Tourist | 1,59   |\n",
       "| 30500 | -12         | N     | Down      | 180    | Tourist | 1,265  |\n",
       "| 16800 | -8          | N     | Synthetic | 200    | Tourist | 1,46   |\n",
       "| 89650 | -30         | N     | Down      | 210    | Extreme | 1,625  |\n",
       "| 16420 | -7          | N     | Synthetic | 215    | Tourist | 1,105  |\n",
       "| 33500 | -11         | N     | Down      | 200    | Tourist | 1,26   |\n",
       "| 46500 | -19         | Y     | Down      | 205    | Tourist | 1,65   |\n",
       "| 12550 | 4           | N     | Synthetic | 215    | Tourist | 0,85   |\n",
       "| 74500 | -23         | Y     | Down      | 220    | Extreme | 1,53   |\n",
       "| 18850 | 7           | N     | Down      | 210    | Tourist | 0,45   |\n",
       "| 27550 | -6          | N     | Down      | 215    | Tourist | 0,95   |\n",
       "| ⋮ | ⋮ | ⋮ | ⋮ | ⋮ | ⋮ | ⋮ |\n",
       "| 74900 | -23 | N | Down      | 215 | Extreme | 1,9   |\n",
       "| 40400 | -40 | Y | Down      | 220 | Extreme | 1,884 |\n",
       "| 31900 | -11 | N | Down      | 215 | Tourist | 1,15  |\n",
       "| 76000 | -30 | N | Down      | 205 | Extreme | 1,62  |\n",
       "| 32490 | -17 | N | Down      | 215 | Tourist | 1,58  |\n",
       "| 78700 | -30 | Y | Down      | 220 | Extreme | 1,695 |\n",
       "| 23950 | 3   | N | Down      | 200 | Tourist | 0,705 |\n",
       "| 85300 | -45 | Y | Down      | 205 | Extreme | 1,98  |\n",
       "| 17650 | -8  | N | Synthetic | 215 | Tourist | 1,645 |\n",
       "| 44600 | -40 | Y | Down      | 215 | Extreme | 2,135 |\n",
       "| 55400 | -35 | Y | Down      | 220 | Extreme | 2,1   |\n",
       "| 19800 | -10 | N | Synthetic | 215 | Tourist | 1,5   |\n",
       "| 23450 | 1   | N | Down      | 215 | Tourist | 0,87  |\n",
       "| 31450 | -1  | Y | Down      | 215 | Tourist | 0,83  |\n",
       "| 23200 | -2  | N | Down      | 215 | Tourist | 0,76  |\n",
       "| 28100 | -15 | Y | Down      | 200 | Tourist | 1,157 |\n",
       "| 35790 | -17 | N | Down      | 195 | Tourist | 1,513 |\n",
       "| 34850 | -16 | N | Down      | 190 | Tourist | 1,52  |\n",
       "| 14100 | 3   | N | Down      | 200 | Tourist | 0,406 |\n",
       "| 34950 | -11 | N | Down      | 215 | Tourist | 1,305 |\n",
       "| 36700 | -25 | N | Down      | 200 | Tourist | 1,59  |\n",
       "| 16800 | -3  | N | Synthetic | 205 | Tourist | 1,32  |\n",
       "| 15300 | 3   | N | Down      | 215 | Tourist | 0,47  |\n",
       "| 30500 | -8  | N | Down      | 200 | Tourist | 1,27  |\n",
       "| 25900 | -10 | N | Down      | 200 | Tourist | 0,862 |\n",
       "| 24900 | 3   | N | Down      | 215 | Tourist | 0,72  |\n",
       "| 13050 | -3  | N | Synthetic | 215 | Tourist | 1,1   |\n",
       "| 48990 | -25 | N | Down      | 200 | Extreme | 1,78  |\n",
       "| 21900 | 1   | N | Down      | 200 | Tourist | 0,98  |\n",
       "| 33600 | -8  | N | Down      | 230 | Tourist | 1,335 |\n",
       "\n"
      ],
      "text/plain": [
       "   V1    V2          V3    V4        V5     V6      V7    \n",
       "1  Price ComfortZone Shell Filling   Length Type    Weight\n",
       "2  65990 -40         N     Combi     215    Extreme 2,08  \n",
       "3  34650 -8          Y     Down      215    Tourist 1,01  \n",
       "4  31450 -8          N     Down      215    Tourist 1,105 \n",
       "5  16700 -1          N     Down      215    Tourist 0,582 \n",
       "6  36700 -16         N     Down      215    Tourist 1,48  \n",
       "7  71500 -23         Y     Down      205    Extreme 1,49  \n",
       "8  34000 -8          N     Down      220    Tourist 1,24  \n",
       "9  23990 1           N     Down      215    Tourist 1,13  \n",
       "10 30350 -8          N     Down      200    Tourist 1,07  \n",
       "11 13000 3           N     Down      185    Tourist 0,359 \n",
       "12 63990 -40         N     Combi     200    Extreme 2,03  \n",
       "13 51600 -35         Y     Down      205    Extreme 2,02  \n",
       "14 22600 1           N     Down      200    Tourist 0,855 \n",
       "15 35700 -22         Y     Down      200    Tourist 1,566 \n",
       "16 33500 -18         N     Down      200    Tourist 1,53  \n",
       "17 30350 -1          Y     Down      200    Tourist 0,815 \n",
       "18 39200 -22         Y     Down      215    Tourist 1,785 \n",
       "19 23720 -5          N     Down      195    Tourist 0,79  \n",
       "20 44350 -19         Y     Down      200    Tourist 1,59  \n",
       "21 30500 -12         N     Down      180    Tourist 1,265 \n",
       "22 16800 -8          N     Synthetic 200    Tourist 1,46  \n",
       "23 89650 -30         N     Down      210    Extreme 1,625 \n",
       "24 16420 -7          N     Synthetic 215    Tourist 1,105 \n",
       "25 33500 -11         N     Down      200    Tourist 1,26  \n",
       "26 46500 -19         Y     Down      205    Tourist 1,65  \n",
       "27 12550 4           N     Synthetic 215    Tourist 0,85  \n",
       "28 74500 -23         Y     Down      220    Extreme 1,53  \n",
       "29 18850 7           N     Down      210    Tourist 0,45  \n",
       "30 27550 -6          N     Down      215    Tourist 0,95  \n",
       "⋮  ⋮     ⋮           ⋮     ⋮         ⋮      ⋮       ⋮     \n",
       "56 74900 -23         N     Down      215    Extreme 1,9   \n",
       "57 40400 -40         Y     Down      220    Extreme 1,884 \n",
       "58 31900 -11         N     Down      215    Tourist 1,15  \n",
       "59 76000 -30         N     Down      205    Extreme 1,62  \n",
       "60 32490 -17         N     Down      215    Tourist 1,58  \n",
       "61 78700 -30         Y     Down      220    Extreme 1,695 \n",
       "62 23950 3           N     Down      200    Tourist 0,705 \n",
       "63 85300 -45         Y     Down      205    Extreme 1,98  \n",
       "64 17650 -8          N     Synthetic 215    Tourist 1,645 \n",
       "65 44600 -40         Y     Down      215    Extreme 2,135 \n",
       "66 55400 -35         Y     Down      220    Extreme 2,1   \n",
       "67 19800 -10         N     Synthetic 215    Tourist 1,5   \n",
       "68 23450 1           N     Down      215    Tourist 0,87  \n",
       "69 31450 -1          Y     Down      215    Tourist 0,83  \n",
       "70 23200 -2          N     Down      215    Tourist 0,76  \n",
       "71 28100 -15         Y     Down      200    Tourist 1,157 \n",
       "72 35790 -17         N     Down      195    Tourist 1,513 \n",
       "73 34850 -16         N     Down      190    Tourist 1,52  \n",
       "74 14100 3           N     Down      200    Tourist 0,406 \n",
       "75 34950 -11         N     Down      215    Tourist 1,305 \n",
       "76 36700 -25         N     Down      200    Tourist 1,59  \n",
       "77 16800 -3          N     Synthetic 205    Tourist 1,32  \n",
       "78 15300 3           N     Down      215    Tourist 0,47  \n",
       "79 30500 -8          N     Down      200    Tourist 1,27  \n",
       "80 25900 -10         N     Down      200    Tourist 0,862 \n",
       "81 24900 3           N     Down      215    Tourist 0,72  \n",
       "82 13050 -3          N     Synthetic 215    Tourist 1,1   \n",
       "83 48990 -25         N     Down      200    Extreme 1,78  \n",
       "84 21900 1           N     Down      200    Tourist 0,98  \n",
       "85 33600 -8          N     Down      230    Tourist 1,335 "
      ]
     },
     "metadata": {},
     "output_type": "display_data"
    }
   ],
   "source": [
    "read.table('slb.txt')"
   ]
  },
  {
   "cell_type": "code",
   "execution_count": 3,
   "metadata": {
    "vscode": {
     "languageId": "r"
    }
   },
   "outputs": [
    {
     "data": {
      "text/plain": [
       "                                                                            \n",
       "1 function (..., list = character(), package = NULL, lib.loc = NULL,        \n",
       "2     verbose = getOption(\"verbose\"), envir = .GlobalEnv, overwrite = TRUE) \n",
       "3 {                                                                         \n",
       "4     fileExt <- function(x) {                                              \n",
       "5         db <- grepl(\"\\\\\\\\.[^.]+\\\\\\\\.(gz|bz2|xz)$\", x)                     \n",
       "6         ans <- sub(\".*\\\\\\\\.\", \"\", x)                                      "
      ]
     },
     "metadata": {},
     "output_type": "display_data"
    }
   ],
   "source": [
    "# Чтение файла с использованием правильного разделителя и заголовка\n",
    "dataBanki <- read.table('BankiRU2.txt', sep = ';', header = TRUE)\n",
    "\n",
    "# Просмотр первых нескольких строк данных\n",
    "head(data)\n"
   ]
  },
  {
   "cell_type": "code",
   "execution_count": 4,
   "metadata": {
    "vscode": {
     "languageId": "r"
    }
   },
   "outputs": [
    {
     "data": {
      "text/html": [
       "<style>\n",
       ".list-inline {list-style: none; margin:0; padding: 0}\n",
       ".list-inline>li {display: inline-block}\n",
       ".list-inline>li:not(:last-child)::after {content: \"\\00b7\"; padding: 0 .5ex}\n",
       "</style>\n",
       "<ol class=list-inline><li>4.59</li><li>3.4</li><li>5.7</li><li>5</li><li>4.7</li><li>4.59</li><li>4.5</li><li>4.5</li><li>4.3</li><li>4.3</li><li>4.5</li><li>4.2</li><li>4.2</li><li>4.4</li><li>4.2</li><li>4.05</li><li>4</li><li>3.97</li><li>3.66</li><li>3.65</li><li>3.7</li><li>3.4</li><li>3.4</li><li>3.8</li><li>2.85</li></ol>\n"
      ],
      "text/latex": [
       "\\begin{enumerate*}\n",
       "\\item 4.59\n",
       "\\item 3.4\n",
       "\\item 5.7\n",
       "\\item 5\n",
       "\\item 4.7\n",
       "\\item 4.59\n",
       "\\item 4.5\n",
       "\\item 4.5\n",
       "\\item 4.3\n",
       "\\item 4.3\n",
       "\\item 4.5\n",
       "\\item 4.2\n",
       "\\item 4.2\n",
       "\\item 4.4\n",
       "\\item 4.2\n",
       "\\item 4.05\n",
       "\\item 4\n",
       "\\item 3.97\n",
       "\\item 3.66\n",
       "\\item 3.65\n",
       "\\item 3.7\n",
       "\\item 3.4\n",
       "\\item 3.4\n",
       "\\item 3.8\n",
       "\\item 2.85\n",
       "\\end{enumerate*}\n"
      ],
      "text/markdown": [
       "1. 4.59\n",
       "2. 3.4\n",
       "3. 5.7\n",
       "4. 5\n",
       "5. 4.7\n",
       "6. 4.59\n",
       "7. 4.5\n",
       "8. 4.5\n",
       "9. 4.3\n",
       "10. 4.3\n",
       "11. 4.5\n",
       "12. 4.2\n",
       "13. 4.2\n",
       "14. 4.4\n",
       "15. 4.2\n",
       "16. 4.05\n",
       "17. 4\n",
       "18. 3.97\n",
       "19. 3.66\n",
       "20. 3.65\n",
       "21. 3.7\n",
       "22. 3.4\n",
       "23. 3.4\n",
       "24. 3.8\n",
       "25. 2.85\n",
       "\n",
       "\n"
      ],
      "text/plain": [
       " [1] 4.59 3.40 5.70 5.00 4.70 4.59 4.50 4.50 4.30 4.30 4.50 4.20 4.20 4.40 4.20\n",
       "[16] 4.05 4.00 3.97 3.66 3.65 3.70 3.40 3.40 3.80 2.85"
      ]
     },
     "metadata": {},
     "output_type": "display_data"
    }
   ],
   "source": [
    "efr <- dataBanki$EffRate\n",
    "efr"
   ]
  },
  {
   "cell_type": "code",
   "execution_count": 5,
   "metadata": {
    "vscode": {
     "languageId": "r"
    }
   },
   "outputs": [
    {
     "data": {
      "text/html": [
       "25"
      ],
      "text/latex": [
       "25"
      ],
      "text/markdown": [
       "25"
      ],
      "text/plain": [
       "[1] 25"
      ]
     },
     "metadata": {},
     "output_type": "display_data"
    }
   ],
   "source": [
    "length(efr)"
   ]
  },
  {
   "cell_type": "code",
   "execution_count": 6,
   "metadata": {
    "vscode": {
     "languageId": "r"
    }
   },
   "outputs": [
    {
     "data": {
      "text/plain": [
       "efr\n",
       "2.85  3.4 3.65 3.66  3.7  3.8 3.97    4 4.05  4.2  4.3  4.4  4.5 4.59  4.7    5 \n",
       "   1    3    1    1    1    1    1    1    1    3    2    1    3    2    1    1 \n",
       " 5.7 \n",
       "   1 "
      ]
     },
     "metadata": {},
     "output_type": "display_data"
    }
   ],
   "source": [
    "table(efr) #frequency distribution"
   ]
  },
  {
   "cell_type": "code",
   "execution_count": 7,
   "metadata": {
    "vscode": {
     "languageId": "r"
    }
   },
   "outputs": [
    {
     "data": {
      "text/html": [
       "5"
      ],
      "text/latex": [
       "5"
      ],
      "text/markdown": [
       "5"
      ],
      "text/plain": [
       "[1] 5"
      ]
     },
     "metadata": {},
     "output_type": "display_data"
    }
   ],
   "source": [
    "# Interval range \n",
    "# Find the number of inrevals\n",
    "1 + floor(log2(25))"
   ]
  },
  {
   "cell_type": "code",
   "execution_count": 8,
   "metadata": {
    "vscode": {
     "languageId": "r"
    }
   },
   "outputs": [
    {
     "data": {
      "text/plain": [
       "\n",
       "(2.85,3.42] (3.42,3.99] (3.99,4.56] (4.56,5.13]  (5.13,5.7] \n",
       "          4           5          11           4           1 "
      ]
     },
     "metadata": {},
     "output_type": "display_data"
    }
   ],
   "source": [
    "table(cut(efr, breaks = 5))"
   ]
  },
  {
   "cell_type": "code",
   "execution_count": 9,
   "metadata": {
    "vscode": {
     "languageId": "r"
    }
   },
   "outputs": [
    {
     "data": {
      "image/png": "[encoded data removed]",
      "text/plain": [
       "Plot with title “Histogram of efr”"
      ]
     },
     "metadata": {
      "image/png": {
       "height": 420,
       "width": 420
      }
     },
     "output_type": "display_data"
    }
   ],
   "source": [
    "hist(efr, breaks = 5)\n",
    "# we can suppose that we have a normal distribution"
   ]
  },
  {
   "cell_type": "code",
   "execution_count": 10,
   "metadata": {
    "vscode": {
     "languageId": "r"
    }
   },
   "outputs": [
    {
     "data": {
      "image/png": "[encoded data removed]",
      "text/plain": [
       "Plot with title “ecdf(efr)”"
      ]
     },
     "metadata": {
      "image/png": {
       "height": 420,
       "width": 420
      }
     },
     "output_type": "display_data"
    }
   ],
   "source": [
    "# Cumulative emperical dicribution function \n",
    "plot(ecdf(efr))"
   ]
  },
  {
   "cell_type": "code",
   "execution_count": 11,
   "metadata": {
    "vscode": {
     "languageId": "r"
    }
   },
   "outputs": [
    {
     "data": {
      "text/html": [
       "4.1424"
      ],
      "text/latex": [
       "4.1424"
      ],
      "text/markdown": [
       "4.1424"
      ],
      "text/plain": [
       "[1] 4.1424"
      ]
     },
     "metadata": {},
     "output_type": "display_data"
    }
   ],
   "source": [
    "mean(efr) #an avarage effective rate"
   ]
  },
  {
   "cell_type": "code",
   "execution_count": 12,
   "metadata": {
    "vscode": {
     "languageId": "r"
    }
   },
   "outputs": [
    {
     "data": {
      "image/png": "[encoded data removed]",
      "text/plain": [
       "Plot with title “Normal Q-Q Plot”"
      ]
     },
     "metadata": {
      "image/png": {
       "height": 420,
       "width": 420
      }
     },
     "output_type": "display_data"
    },
    {
     "data": {
      "text/html": [
       "<style>\n",
       ".list-inline {list-style: none; margin:0; padding: 0}\n",
       ".list-inline>li {display: inline-block}\n",
       ".list-inline>li:not(:last-child)::after {content: \"\\00b7\"; padding: 0 .5ex}\n",
       "</style>\n",
       "<ol class=list-inline><li>3</li><li>25</li></ol>\n"
      ],
      "text/latex": [
       "\\begin{enumerate*}\n",
       "\\item 3\n",
       "\\item 25\n",
       "\\end{enumerate*}\n"
      ],
      "text/markdown": [
       "1. 3\n",
       "2. 25\n",
       "\n",
       "\n"
      ],
      "text/plain": [
       "[1]  3 25"
      ]
     },
     "metadata": {},
     "output_type": "display_data"
    },
    {
     "data": {
      "image/png": "[encoded data removed]",
      "text/plain": [
       "plot without title"
      ]
     },
     "metadata": {
      "image/png": {
       "height": 420,
       "width": 420
      }
     },
     "output_type": "display_data"
    }
   ],
   "source": [
    "qqnorm(efr)\n",
    "qqPlot(efr)\n"
   ]
  },
  {
   "cell_type": "code",
   "execution_count": 13,
   "metadata": {
    "vscode": {
     "languageId": "r"
    }
   },
   "outputs": [
    {
     "data": {
      "text/html": [
       "<table class=\"dataframe\">\n",
       "<caption>A data.frame: 6 × 7</caption>\n",
       "<thead>\n",
       "\t<tr><th></th><th scope=col>FedDistrict</th><th scope=col>Region</th><th scope=col>Airport</th><th scope=col>May</th><th scope=col>June</th><th scope=col>July</th><th scope=col>LegalEntity</th></tr>\n",
       "\t<tr><th></th><th scope=col>&lt;chr&gt;</th><th scope=col>&lt;chr&gt;</th><th scope=col>&lt;chr&gt;</th><th scope=col>&lt;int&gt;</th><th scope=col>&lt;int&gt;</th><th scope=col>&lt;int&gt;</th><th scope=col>&lt;chr&gt;</th></tr>\n",
       "</thead>\n",
       "<tbody>\n",
       "\t<tr><th scope=row>1</th><td>Ural</td><td>Тюменская область                </td><td>Тюмень (Рощино)</td><td>41670</td><td>31000</td><td>35600</td><td>ООО «Лукойл-Аэро-Восток»                                   </td></tr>\n",
       "\t<tr><th scope=row>2</th><td>Ural</td><td>Ханты-Мансийский автономный округ</td><td>Белоярский     </td><td>49602</td><td>49602</td><td>49602</td><td>ОАО «Аэропорт Белоярский»                                  </td></tr>\n",
       "\t<tr><th scope=row>3</th><td>Ural</td><td>Ханты-Мансийский автономный округ</td><td>Когалым        </td><td>38697</td><td>31200</td><td>35800</td><td>ООО «Лукойл-Аэро-Восток»                                   </td></tr>\n",
       "\t<tr><th scope=row>4</th><td>Ural</td><td>Ханты-Мансийский автономный округ</td><td>Нижневартовск  </td><td>44550</td><td>30550</td><td>35150</td><td>ОАО «Нижневартовскавиа» (май) ООО \"Лукойл-Аэро\" (июнь-июль)</td></tr>\n",
       "\t<tr><th scope=row>5</th><td>Ural</td><td>Ханты-Мансийский автономный округ</td><td>Нижневартовск  </td><td>56500</td><td>56500</td><td>56500</td><td>ООО \"Газэнергосеть Санкт-Петербург\"                        </td></tr>\n",
       "\t<tr><th scope=row>6</th><td>Ural</td><td>Ханты-Мансийский автономный округ</td><td>Нягань         </td><td>53000</td><td>53000</td><td>53000</td><td>ОАО «Аэропорт Нягань»                                      </td></tr>\n",
       "</tbody>\n",
       "</table>\n"
      ],
      "text/latex": [
       "A data.frame: 6 × 7\n",
       "\\begin{tabular}{r|lllllll}\n",
       "  & FedDistrict & Region & Airport & May & June & July & LegalEntity\\\\\n",
       "  & <chr> & <chr> & <chr> & <int> & <int> & <int> & <chr>\\\\\n",
       "\\hline\n",
       "\t1 & Ural & Тюменская область                 & Тюмень (Рощино) & 41670 & 31000 & 35600 & ООО «Лукойл-Аэро-Восток»                                   \\\\\n",
       "\t2 & Ural & Ханты-Мансийский автономный округ & Белоярский      & 49602 & 49602 & 49602 & ОАО «Аэропорт Белоярский»                                  \\\\\n",
       "\t3 & Ural & Ханты-Мансийский автономный округ & Когалым         & 38697 & 31200 & 35800 & ООО «Лукойл-Аэро-Восток»                                   \\\\\n",
       "\t4 & Ural & Ханты-Мансийский автономный округ & Нижневартовск   & 44550 & 30550 & 35150 & ОАО «Нижневартовскавиа» (май) ООО \"Лукойл-Аэро\" (июнь-июль)\\\\\n",
       "\t5 & Ural & Ханты-Мансийский автономный округ & Нижневартовск   & 56500 & 56500 & 56500 & ООО \"Газэнергосеть Санкт-Петербург\"                        \\\\\n",
       "\t6 & Ural & Ханты-Мансийский автономный округ & Нягань          & 53000 & 53000 & 53000 & ОАО «Аэропорт Нягань»                                      \\\\\n",
       "\\end{tabular}\n"
      ],
      "text/markdown": [
       "\n",
       "A data.frame: 6 × 7\n",
       "\n",
       "| <!--/--> | FedDistrict &lt;chr&gt; | Region &lt;chr&gt; | Airport &lt;chr&gt; | May &lt;int&gt; | June &lt;int&gt; | July &lt;int&gt; | LegalEntity &lt;chr&gt; |\n",
       "|---|---|---|---|---|---|---|---|\n",
       "| 1 | Ural | Тюменская область                 | Тюмень (Рощино) | 41670 | 31000 | 35600 | ООО «Лукойл-Аэро-Восток»                                    |\n",
       "| 2 | Ural | Ханты-Мансийский автономный округ | Белоярский      | 49602 | 49602 | 49602 | ОАО «Аэропорт Белоярский»                                   |\n",
       "| 3 | Ural | Ханты-Мансийский автономный округ | Когалым         | 38697 | 31200 | 35800 | ООО «Лукойл-Аэро-Восток»                                    |\n",
       "| 4 | Ural | Ханты-Мансийский автономный округ | Нижневартовск   | 44550 | 30550 | 35150 | ОАО «Нижневартовскавиа» (май) ООО \"Лукойл-Аэро\" (июнь-июль) |\n",
       "| 5 | Ural | Ханты-Мансийский автономный округ | Нижневартовск   | 56500 | 56500 | 56500 | ООО \"Газэнергосеть Санкт-Петербург\"                         |\n",
       "| 6 | Ural | Ханты-Мансийский автономный округ | Нягань          | 53000 | 53000 | 53000 | ОАО «Аэропорт Нягань»                                       |\n",
       "\n"
      ],
      "text/plain": [
       "  FedDistrict Region                            Airport         May   June \n",
       "1 Ural        Тюменская область                 Тюмень (Рощино) 41670 31000\n",
       "2 Ural        Ханты-Мансийский автономный округ Белоярский      49602 49602\n",
       "3 Ural        Ханты-Мансийский автономный округ Когалым         38697 31200\n",
       "4 Ural        Ханты-Мансийский автономный округ Нижневартовск   44550 30550\n",
       "5 Ural        Ханты-Мансийский автономный округ Нижневартовск   56500 56500\n",
       "6 Ural        Ханты-Мансийский автономный округ Нягань          53000 53000\n",
       "  July  LegalEntity                                                \n",
       "1 35600 ООО «Лукойл-Аэро-Восток»                                   \n",
       "2 49602 ОАО «Аэропорт Белоярский»                                  \n",
       "3 35800 ООО «Лукойл-Аэро-Восток»                                   \n",
       "4 35150 ОАО «Нижневартовскавиа» (май) ООО \"Лукойл-Аэро\" (июнь-июль)\n",
       "5 56500 ООО \"Газэнергосеть Санкт-Петербург\"                        \n",
       "6 53000 ОАО «Аэропорт Нягань»                                      "
      ]
     },
     "metadata": {},
     "output_type": "display_data"
    }
   ],
   "source": [
    "# Чтение файла с использованием правильного разделителя и заголовка\n",
    "JetFuelPrices <- read.table('JetFuelPrices.txt', sep = '\\t', header = TRUE)\n",
    "\n",
    "# Просмотр первых нескольких строк данных\n",
    "head(JetFuelPrices)\n"
   ]
  },
  {
   "cell_type": "code",
   "execution_count": 14,
   "metadata": {
    "vscode": {
     "languageId": "r"
    }
   },
   "outputs": [
    {
     "data": {
      "text/html": [
       "<table class=\"dataframe\">\n",
       "<caption>A data.frame: 24 × 7</caption>\n",
       "<thead>\n",
       "\t<tr><th></th><th scope=col>FedDistrict</th><th scope=col>Region</th><th scope=col>Airport</th><th scope=col>May</th><th scope=col>June</th><th scope=col>July</th><th scope=col>LegalEntity</th></tr>\n",
       "\t<tr><th></th><th scope=col>&lt;chr&gt;</th><th scope=col>&lt;chr&gt;</th><th scope=col>&lt;chr&gt;</th><th scope=col>&lt;int&gt;</th><th scope=col>&lt;int&gt;</th><th scope=col>&lt;int&gt;</th><th scope=col>&lt;chr&gt;</th></tr>\n",
       "</thead>\n",
       "<tbody>\n",
       "\t<tr><th scope=row>1</th><td>Ural</td><td>Тюменская область                </td><td>Тюмень (Рощино)        </td><td>41670</td><td>31000</td><td>35600</td><td>ООО «Лукойл-Аэро-Восток»                                   </td></tr>\n",
       "\t<tr><th scope=row>2</th><td>Ural</td><td>Ханты-Мансийский автономный округ</td><td>Белоярский             </td><td>49602</td><td>49602</td><td>49602</td><td>ОАО «Аэропорт Белоярский»                                  </td></tr>\n",
       "\t<tr><th scope=row>3</th><td>Ural</td><td>Ханты-Мансийский автономный округ</td><td>Когалым                </td><td>38697</td><td>31200</td><td>35800</td><td>ООО «Лукойл-Аэро-Восток»                                   </td></tr>\n",
       "\t<tr><th scope=row>4</th><td>Ural</td><td>Ханты-Мансийский автономный округ</td><td>Нижневартовск          </td><td>44550</td><td>30550</td><td>35150</td><td>ОАО «Нижневартовскавиа» (май) ООО \"Лукойл-Аэро\" (июнь-июль)</td></tr>\n",
       "\t<tr><th scope=row>5</th><td>Ural</td><td>Ханты-Мансийский автономный округ</td><td>Нижневартовск          </td><td>56500</td><td>56500</td><td>56500</td><td>ООО \"Газэнергосеть Санкт-Петербург\"                        </td></tr>\n",
       "\t<tr><th scope=row>6</th><td>Ural</td><td>Ханты-Мансийский автономный округ</td><td>Нягань                 </td><td>53000</td><td>53000</td><td>53000</td><td>ОАО «Аэропорт Нягань»                                      </td></tr>\n",
       "\t<tr><th scope=row>7</th><td>Ural</td><td>Ханты-Мансийский автономный округ</td><td>Советский              </td><td>53900</td><td>53900</td><td>45130</td><td>ООО «Аэропорт Советский»                                   </td></tr>\n",
       "\t<tr><th scope=row>8</th><td>Ural</td><td>Ханты-Мансийский автономный округ</td><td>Сургут                 </td><td>42260</td><td>31430</td><td>36030</td><td>ООО «Лукойл-Аэро-Восток»                                   </td></tr>\n",
       "\t<tr><th scope=row>9</th><td>Ural</td><td>Ханты-Мансийский автономный округ</td><td>Урай                   </td><td>50000</td><td>50000</td><td>50000</td><td>ОАО «Аэропорт Урай»                                        </td></tr>\n",
       "\t<tr><th scope=row>10</th><td>Ural</td><td>Ханты-Мансийский автономный округ</td><td>Ханты-Мансийск         </td><td>45900</td><td>45900</td><td>45900</td><td>ОАО «Юграавиа»                                             </td></tr>\n",
       "\t<tr><th scope=row>11</th><td>Ural</td><td>Ямало-Ненецкий автономный округ  </td><td>Надым                  </td><td>55654</td><td>55654</td><td>55654</td><td>ОАО «Надымское авиапредприятие»                            </td></tr>\n",
       "\t<tr><th scope=row>12</th><td>Ural</td><td>Ямало-Ненецкий автономный округ  </td><td>Ноябрьск               </td><td>46406</td><td>56863</td><td>56863</td><td>Ноябрьский  филиал ОАО «Аэропорт Сургут»                   </td></tr>\n",
       "\t<tr><th scope=row>13</th><td>Ural</td><td>Ямало-Ненецкий автономный округ  </td><td>Салехард               </td><td>57675</td><td>57675</td><td>57675</td><td>ОАО «Аэропорт Салехард»                                    </td></tr>\n",
       "\t<tr><th scope=row>14</th><td>Ural</td><td>Ямало-Ненецкий автономный округ  </td><td>Тарко-Сале             </td><td>43562</td><td>43562</td><td>43562</td><td>ГУП ЯНАО «Аэропорт Тарко-Сале»                             </td></tr>\n",
       "\t<tr><th scope=row>15</th><td>Ural</td><td>Ямало-Ненецкий автономный округ  </td><td>Уренгой                </td><td>46102</td><td>46102</td><td>46102</td><td>ГУП ЯНАО «Аэропорт Тарко-Сале»                             </td></tr>\n",
       "\t<tr><th scope=row>16</th><td>Ural</td><td>Ямало-Ненецкий автономный округ  </td><td>Сабетта                </td><td>59280</td><td>59280</td><td>59280</td><td>ООО \"Международный аэропорт Сабетта\"                       </td></tr>\n",
       "\t<tr><th scope=row>17</th><td>Ural</td><td>Ямало-Ненецкий автономный округ  </td><td>Бованенково            </td><td>50560</td><td>50560</td><td>51875</td><td>Ямбургский филиал ООО АП «Газпромавиа»                     </td></tr>\n",
       "\t<tr><th scope=row>18</th><td>Ural</td><td>Ямало-Ненецкий автономный округ  </td><td>Ямбург                 </td><td>52778</td><td>52778</td><td>48147</td><td>Ямбургский филиал ООО АП «Газпромавиа»                     </td></tr>\n",
       "\t<tr><th scope=row>72</th><td>Ural</td><td>Западная Сибирь                  </td><td>Стрежевой              </td><td>49464</td><td>49464</td><td>49464</td><td>ООО «СпецАвиа»                                             </td></tr>\n",
       "\t<tr><th scope=row>75</th><td>Ural</td><td>Уральский Федеральный округ      </td><td>Кольцово (Екатеринбург)</td><td>34384</td><td>33337</td><td>35478</td><td>АО ТЗК «Кольцово»                                          </td></tr>\n",
       "\t<tr><th scope=row>76</th><td>Ural</td><td>Уральский Федеральный округ      </td><td>Кольцово (Екатеринбург)</td><td>29568</td><td>25993</td><td>27227</td><td>ООО \"АЭРОФЬЮЭЛЗ Екатеринбург\"                              </td></tr>\n",
       "\t<tr><th scope=row>77</th><td>Ural</td><td>Уральский Федеральный округ      </td><td>Баландино (Челябинск)  </td><td>42095</td><td>33765</td><td>35865</td><td>ООО ТЗК «ВОЛГА»                                            </td></tr>\n",
       "\t<tr><th scope=row>78</th><td>Ural</td><td>Уральский Федеральный округ      </td><td>Курган                 </td><td>48791</td><td>47833</td><td>47175</td><td>ООО «Аэрофьюэлз Курган»                                    </td></tr>\n",
       "\t<tr><th scope=row>79</th><td>Ural</td><td>Уральский Федеральный округ      </td><td>Магнитогорск           </td><td>44800</td><td>44800</td><td>44800</td><td>АО \"Международный аэропорт Магнитогорск\"                   </td></tr>\n",
       "</tbody>\n",
       "</table>\n"
      ],
      "text/latex": [
       "A data.frame: 24 × 7\n",
       "\\begin{tabular}{r|lllllll}\n",
       "  & FedDistrict & Region & Airport & May & June & July & LegalEntity\\\\\n",
       "  & <chr> & <chr> & <chr> & <int> & <int> & <int> & <chr>\\\\\n",
       "\\hline\n",
       "\t1 & Ural & Тюменская область                 & Тюмень (Рощино)         & 41670 & 31000 & 35600 & ООО «Лукойл-Аэро-Восток»                                   \\\\\n",
       "\t2 & Ural & Ханты-Мансийский автономный округ & Белоярский              & 49602 & 49602 & 49602 & ОАО «Аэропорт Белоярский»                                  \\\\\n",
       "\t3 & Ural & Ханты-Мансийский автономный округ & Когалым                 & 38697 & 31200 & 35800 & ООО «Лукойл-Аэро-Восток»                                   \\\\\n",
       "\t4 & Ural & Ханты-Мансийский автономный округ & Нижневартовск           & 44550 & 30550 & 35150 & ОАО «Нижневартовскавиа» (май) ООО \"Лукойл-Аэро\" (июнь-июль)\\\\\n",
       "\t5 & Ural & Ханты-Мансийский автономный округ & Нижневартовск           & 56500 & 56500 & 56500 & ООО \"Газэнергосеть Санкт-Петербург\"                        \\\\\n",
       "\t6 & Ural & Ханты-Мансийский автономный округ & Нягань                  & 53000 & 53000 & 53000 & ОАО «Аэропорт Нягань»                                      \\\\\n",
       "\t7 & Ural & Ханты-Мансийский автономный округ & Советский               & 53900 & 53900 & 45130 & ООО «Аэропорт Советский»                                   \\\\\n",
       "\t8 & Ural & Ханты-Мансийский автономный округ & Сургут                  & 42260 & 31430 & 36030 & ООО «Лукойл-Аэро-Восток»                                   \\\\\n",
       "\t9 & Ural & Ханты-Мансийский автономный округ & Урай                    & 50000 & 50000 & 50000 & ОАО «Аэропорт Урай»                                        \\\\\n",
       "\t10 & Ural & Ханты-Мансийский автономный округ & Ханты-Мансийск          & 45900 & 45900 & 45900 & ОАО «Юграавиа»                                             \\\\\n",
       "\t11 & Ural & Ямало-Ненецкий автономный округ   & Надым                   & 55654 & 55654 & 55654 & ОАО «Надымское авиапредприятие»                            \\\\\n",
       "\t12 & Ural & Ямало-Ненецкий автономный округ   & Ноябрьск                & 46406 & 56863 & 56863 & Ноябрьский  филиал ОАО «Аэропорт Сургут»                   \\\\\n",
       "\t13 & Ural & Ямало-Ненецкий автономный округ   & Салехард                & 57675 & 57675 & 57675 & ОАО «Аэропорт Салехард»                                    \\\\\n",
       "\t14 & Ural & Ямало-Ненецкий автономный округ   & Тарко-Сале              & 43562 & 43562 & 43562 & ГУП ЯНАО «Аэропорт Тарко-Сале»                             \\\\\n",
       "\t15 & Ural & Ямало-Ненецкий автономный округ   & Уренгой                 & 46102 & 46102 & 46102 & ГУП ЯНАО «Аэропорт Тарко-Сале»                             \\\\\n",
       "\t16 & Ural & Ямало-Ненецкий автономный округ   & Сабетта                 & 59280 & 59280 & 59280 & ООО \"Международный аэропорт Сабетта\"                       \\\\\n",
       "\t17 & Ural & Ямало-Ненецкий автономный округ   & Бованенково             & 50560 & 50560 & 51875 & Ямбургский филиал ООО АП «Газпромавиа»                     \\\\\n",
       "\t18 & Ural & Ямало-Ненецкий автономный округ   & Ямбург                  & 52778 & 52778 & 48147 & Ямбургский филиал ООО АП «Газпромавиа»                     \\\\\n",
       "\t72 & Ural & Западная Сибирь                   & Стрежевой               & 49464 & 49464 & 49464 & ООО «СпецАвиа»                                             \\\\\n",
       "\t75 & Ural & Уральский Федеральный округ       & Кольцово (Екатеринбург) & 34384 & 33337 & 35478 & АО ТЗК «Кольцово»                                          \\\\\n",
       "\t76 & Ural & Уральский Федеральный округ       & Кольцово (Екатеринбург) & 29568 & 25993 & 27227 & ООО \"АЭРОФЬЮЭЛЗ Екатеринбург\"                              \\\\\n",
       "\t77 & Ural & Уральский Федеральный округ       & Баландино (Челябинск)   & 42095 & 33765 & 35865 & ООО ТЗК «ВОЛГА»                                            \\\\\n",
       "\t78 & Ural & Уральский Федеральный округ       & Курган                  & 48791 & 47833 & 47175 & ООО «Аэрофьюэлз Курган»                                    \\\\\n",
       "\t79 & Ural & Уральский Федеральный округ       & Магнитогорск            & 44800 & 44800 & 44800 & АО \"Международный аэропорт Магнитогорск\"                   \\\\\n",
       "\\end{tabular}\n"
      ],
      "text/markdown": [
       "\n",
       "A data.frame: 24 × 7\n",
       "\n",
       "| <!--/--> | FedDistrict &lt;chr&gt; | Region &lt;chr&gt; | Airport &lt;chr&gt; | May &lt;int&gt; | June &lt;int&gt; | July &lt;int&gt; | LegalEntity &lt;chr&gt; |\n",
       "|---|---|---|---|---|---|---|---|\n",
       "| 1 | Ural | Тюменская область                 | Тюмень (Рощино)         | 41670 | 31000 | 35600 | ООО «Лукойл-Аэро-Восток»                                    |\n",
       "| 2 | Ural | Ханты-Мансийский автономный округ | Белоярский              | 49602 | 49602 | 49602 | ОАО «Аэропорт Белоярский»                                   |\n",
       "| 3 | Ural | Ханты-Мансийский автономный округ | Когалым                 | 38697 | 31200 | 35800 | ООО «Лукойл-Аэро-Восток»                                    |\n",
       "| 4 | Ural | Ханты-Мансийский автономный округ | Нижневартовск           | 44550 | 30550 | 35150 | ОАО «Нижневартовскавиа» (май) ООО \"Лукойл-Аэро\" (июнь-июль) |\n",
       "| 5 | Ural | Ханты-Мансийский автономный округ | Нижневартовск           | 56500 | 56500 | 56500 | ООО \"Газэнергосеть Санкт-Петербург\"                         |\n",
       "| 6 | Ural | Ханты-Мансийский автономный округ | Нягань                  | 53000 | 53000 | 53000 | ОАО «Аэропорт Нягань»                                       |\n",
       "| 7 | Ural | Ханты-Мансийский автономный округ | Советский               | 53900 | 53900 | 45130 | ООО «Аэропорт Советский»                                    |\n",
       "| 8 | Ural | Ханты-Мансийский автономный округ | Сургут                  | 42260 | 31430 | 36030 | ООО «Лукойл-Аэро-Восток»                                    |\n",
       "| 9 | Ural | Ханты-Мансийский автономный округ | Урай                    | 50000 | 50000 | 50000 | ОАО «Аэропорт Урай»                                         |\n",
       "| 10 | Ural | Ханты-Мансийский автономный округ | Ханты-Мансийск          | 45900 | 45900 | 45900 | ОАО «Юграавиа»                                              |\n",
       "| 11 | Ural | Ямало-Ненецкий автономный округ   | Надым                   | 55654 | 55654 | 55654 | ОАО «Надымское авиапредприятие»                             |\n",
       "| 12 | Ural | Ямало-Ненецкий автономный округ   | Ноябрьск                | 46406 | 56863 | 56863 | Ноябрьский  филиал ОАО «Аэропорт Сургут»                    |\n",
       "| 13 | Ural | Ямало-Ненецкий автономный округ   | Салехард                | 57675 | 57675 | 57675 | ОАО «Аэропорт Салехард»                                     |\n",
       "| 14 | Ural | Ямало-Ненецкий автономный округ   | Тарко-Сале              | 43562 | 43562 | 43562 | ГУП ЯНАО «Аэропорт Тарко-Сале»                              |\n",
       "| 15 | Ural | Ямало-Ненецкий автономный округ   | Уренгой                 | 46102 | 46102 | 46102 | ГУП ЯНАО «Аэропорт Тарко-Сале»                              |\n",
       "| 16 | Ural | Ямало-Ненецкий автономный округ   | Сабетта                 | 59280 | 59280 | 59280 | ООО \"Международный аэропорт Сабетта\"                        |\n",
       "| 17 | Ural | Ямало-Ненецкий автономный округ   | Бованенково             | 50560 | 50560 | 51875 | Ямбургский филиал ООО АП «Газпромавиа»                      |\n",
       "| 18 | Ural | Ямало-Ненецкий автономный округ   | Ямбург                  | 52778 | 52778 | 48147 | Ямбургский филиал ООО АП «Газпромавиа»                      |\n",
       "| 72 | Ural | Западная Сибирь                   | Стрежевой               | 49464 | 49464 | 49464 | ООО «СпецАвиа»                                              |\n",
       "| 75 | Ural | Уральский Федеральный округ       | Кольцово (Екатеринбург) | 34384 | 33337 | 35478 | АО ТЗК «Кольцово»                                           |\n",
       "| 76 | Ural | Уральский Федеральный округ       | Кольцово (Екатеринбург) | 29568 | 25993 | 27227 | ООО \"АЭРОФЬЮЭЛЗ Екатеринбург\"                               |\n",
       "| 77 | Ural | Уральский Федеральный округ       | Баландино (Челябинск)   | 42095 | 33765 | 35865 | ООО ТЗК «ВОЛГА»                                             |\n",
       "| 78 | Ural | Уральский Федеральный округ       | Курган                  | 48791 | 47833 | 47175 | ООО «Аэрофьюэлз Курган»                                     |\n",
       "| 79 | Ural | Уральский Федеральный округ       | Магнитогорск            | 44800 | 44800 | 44800 | АО \"Международный аэропорт Магнитогорск\"                    |\n",
       "\n"
      ],
      "text/plain": [
       "   FedDistrict Region                            Airport                 May  \n",
       "1  Ural        Тюменская область                 Тюмень (Рощино)         41670\n",
       "2  Ural        Ханты-Мансийский автономный округ Белоярский              49602\n",
       "3  Ural        Ханты-Мансийский автономный округ Когалым                 38697\n",
       "4  Ural        Ханты-Мансийский автономный округ Нижневартовск           44550\n",
       "5  Ural        Ханты-Мансийский автономный округ Нижневартовск           56500\n",
       "6  Ural        Ханты-Мансийский автономный округ Нягань                  53000\n",
       "7  Ural        Ханты-Мансийский автономный округ Советский               53900\n",
       "8  Ural        Ханты-Мансийский автономный округ Сургут                  42260\n",
       "9  Ural        Ханты-Мансийский автономный округ Урай                    50000\n",
       "10 Ural        Ханты-Мансийский автономный округ Ханты-Мансийск          45900\n",
       "11 Ural        Ямало-Ненецкий автономный округ   Надым                   55654\n",
       "12 Ural        Ямало-Ненецкий автономный округ   Ноябрьск                46406\n",
       "13 Ural        Ямало-Ненецкий автономный округ   Салехард                57675\n",
       "14 Ural        Ямало-Ненецкий автономный округ   Тарко-Сале              43562\n",
       "15 Ural        Ямало-Ненецкий автономный округ   Уренгой                 46102\n",
       "16 Ural        Ямало-Ненецкий автономный округ   Сабетта                 59280\n",
       "17 Ural        Ямало-Ненецкий автономный округ   Бованенково             50560\n",
       "18 Ural        Ямало-Ненецкий автономный округ   Ямбург                  52778\n",
       "72 Ural        Западная Сибирь                   Стрежевой               49464\n",
       "75 Ural        Уральский Федеральный округ       Кольцово (Екатеринбург) 34384\n",
       "76 Ural        Уральский Федеральный округ       Кольцово (Екатеринбург) 29568\n",
       "77 Ural        Уральский Федеральный округ       Баландино (Челябинск)   42095\n",
       "78 Ural        Уральский Федеральный округ       Курган                  48791\n",
       "79 Ural        Уральский Федеральный округ       Магнитогорск            44800\n",
       "   June  July  LegalEntity                                                \n",
       "1  31000 35600 ООО «Лукойл-Аэро-Восток»                                   \n",
       "2  49602 49602 ОАО «Аэропорт Белоярский»                                  \n",
       "3  31200 35800 ООО «Лукойл-Аэро-Восток»                                   \n",
       "4  30550 35150 ОАО «Нижневартовскавиа» (май) ООО \"Лукойл-Аэро\" (июнь-июль)\n",
       "5  56500 56500 ООО \"Газэнергосеть Санкт-Петербург\"                        \n",
       "6  53000 53000 ОАО «Аэропорт Нягань»                                      \n",
       "7  53900 45130 ООО «Аэропорт Советский»                                   \n",
       "8  31430 36030 ООО «Лукойл-Аэро-Восток»                                   \n",
       "9  50000 50000 ОАО «Аэропорт Урай»                                        \n",
       "10 45900 45900 ОАО «Юграавиа»                                             \n",
       "11 55654 55654 ОАО «Надымское авиапредприятие»                            \n",
       "12 56863 56863 Ноябрьский  филиал ОАО «Аэропорт Сургут»                   \n",
       "13 57675 57675 ОАО «Аэропорт Салехард»                                    \n",
       "14 43562 43562 ГУП ЯНАО «Аэропорт Тарко-Сале»                             \n",
       "15 46102 46102 ГУП ЯНАО «Аэропорт Тарко-Сале»                             \n",
       "16 59280 59280 ООО \"Международный аэропорт Сабетта\"                       \n",
       "17 50560 51875 Ямбургский филиал ООО АП «Газпромавиа»                     \n",
       "18 52778 48147 Ямбургский филиал ООО АП «Газпромавиа»                     \n",
       "72 49464 49464 ООО «СпецАвиа»                                             \n",
       "75 33337 35478 АО ТЗК «Кольцово»                                          \n",
       "76 25993 27227 ООО \"АЭРОФЬЮЭЛЗ Екатеринбург\"                              \n",
       "77 33765 35865 ООО ТЗК «ВОЛГА»                                            \n",
       "78 47833 47175 ООО «Аэрофьюэлз Курган»                                    \n",
       "79 44800 44800 АО \"Международный аэропорт Магнитогорск\"                   "
      ]
     },
     "metadata": {},
     "output_type": "display_data"
    }
   ],
   "source": [
    "CU<-subset(JetFuelPrices, JetFuelPrices$FedDistrict==\"central\" | JetFuelPrices$FedDistrict==\"Ural\")\n",
    "CU"
   ]
  },
  {
   "attachments": {
    "image.png": {
     "image/png": "[encoded data removed]"
    }
   },
   "cell_type": "markdown",
   "metadata": {},
   "source": [
    "![image.png](attachment:image.png)"
   ]
  },
  {
   "cell_type": "markdown",
   "metadata": {},
   "source": [
    "# Introduction: variables, arrays, operations"
   ]
  },
  {
   "cell_type": "markdown",
   "metadata": {},
   "source": [
    "## Variables"
   ]
  },
  {
   "cell_type": "code",
   "execution_count": 15,
   "metadata": {
    "vscode": {
     "languageId": "r"
    }
   },
   "outputs": [
    {
     "data": {
      "text/html": [
       "<style>\n",
       ".list-inline {list-style: none; margin:0; padding: 0}\n",
       ".list-inline>li {display: inline-block}\n",
       ".list-inline>li:not(:last-child)::after {content: \"\\00b7\"; padding: 0 .5ex}\n",
       "</style>\n",
       "<ol class=list-inline><li>1</li><li>2</li><li>3</li><li>4</li><li>5</li><li>6</li><li>7</li><li>8</li><li>9</li><li>10</li></ol>\n"
      ],
      "text/latex": [
       "\\begin{enumerate*}\n",
       "\\item 1\n",
       "\\item 2\n",
       "\\item 3\n",
       "\\item 4\n",
       "\\item 5\n",
       "\\item 6\n",
       "\\item 7\n",
       "\\item 8\n",
       "\\item 9\n",
       "\\item 10\n",
       "\\end{enumerate*}\n"
      ],
      "text/markdown": [
       "1. 1\n",
       "2. 2\n",
       "3. 3\n",
       "4. 4\n",
       "5. 5\n",
       "6. 6\n",
       "7. 7\n",
       "8. 8\n",
       "9. 9\n",
       "10. 10\n",
       "\n",
       "\n"
      ],
      "text/plain": [
       " [1]  1  2  3  4  5  6  7  8  9 10"
      ]
     },
     "metadata": {},
     "output_type": "display_data"
    },
    {
     "data": {
      "text/html": [
       "<style>\n",
       ".list-inline {list-style: none; margin:0; padding: 0}\n",
       ".list-inline>li {display: inline-block}\n",
       ".list-inline>li:not(:last-child)::after {content: \"\\00b7\"; padding: 0 .5ex}\n",
       "</style>\n",
       "<ol class=list-inline><li>12</li><li>40</li><li>8.2</li><li>109</li><li>-2</li></ol>\n"
      ],
      "text/latex": [
       "\\begin{enumerate*}\n",
       "\\item 12\n",
       "\\item 40\n",
       "\\item 8.2\n",
       "\\item 109\n",
       "\\item -2\n",
       "\\end{enumerate*}\n"
      ],
      "text/markdown": [
       "1. 12\n",
       "2. 40\n",
       "3. 8.2\n",
       "4. 109\n",
       "5. -2\n",
       "\n",
       "\n"
      ],
      "text/plain": [
       "[1]  12.0  40.0   8.2 109.0  -2.0"
      ]
     },
     "metadata": {},
     "output_type": "display_data"
    },
    {
     "data": {
      "text/html": [
       "5"
      ],
      "text/latex": [
       "5"
      ],
      "text/markdown": [
       "5"
      ],
      "text/plain": [
       "[1] 5"
      ]
     },
     "metadata": {},
     "output_type": "display_data"
    },
    {
     "data": {
      "text/html": [
       "<style>\n",
       ".list-inline {list-style: none; margin:0; padding: 0}\n",
       ".list-inline>li {display: inline-block}\n",
       ".list-inline>li:not(:last-child)::after {content: \"\\00b7\"; padding: 0 .5ex}\n",
       "</style>\n",
       "<ol class=list-inline><li>12</li><li>40</li><li>8.2</li></ol>\n"
      ],
      "text/latex": [
       "\\begin{enumerate*}\n",
       "\\item 12\n",
       "\\item 40\n",
       "\\item 8.2\n",
       "\\end{enumerate*}\n"
      ],
      "text/markdown": [
       "1. 12\n",
       "2. 40\n",
       "3. 8.2\n",
       "\n",
       "\n"
      ],
      "text/plain": [
       "[1] 12.0 40.0  8.2"
      ]
     },
     "metadata": {},
     "output_type": "display_data"
    },
    {
     "data": {
      "text/html": [
       "<style>\n",
       ".list-inline {list-style: none; margin:0; padding: 0}\n",
       ".list-inline>li {display: inline-block}\n",
       ".list-inline>li:not(:last-child)::after {content: \"\\00b7\"; padding: 0 .5ex}\n",
       "</style>\n",
       "<ol class=list-inline><li>40</li><li>109</li></ol>\n"
      ],
      "text/latex": [
       "\\begin{enumerate*}\n",
       "\\item 40\n",
       "\\item 109\n",
       "\\end{enumerate*}\n"
      ],
      "text/markdown": [
       "1. 40\n",
       "2. 109\n",
       "\n",
       "\n"
      ],
      "text/plain": [
       "[1]  40 109"
      ]
     },
     "metadata": {},
     "output_type": "display_data"
    },
    {
     "data": {
      "text/html": [
       "<style>\n",
       ".list-inline {list-style: none; margin:0; padding: 0}\n",
       ".list-inline>li {display: inline-block}\n",
       ".list-inline>li:not(:last-child)::after {content: \"\\00b7\"; padding: 0 .5ex}\n",
       "</style>\n",
       "<ol class=list-inline><li>1</li><li>2</li><li>3</li><li>4</li><li>5</li><li>6</li><li>7</li><li>8</li><li>9</li><li>10</li><li>12</li><li>40</li><li>8.2</li><li>109</li><li>-2</li></ol>\n"
      ],
      "text/latex": [
       "\\begin{enumerate*}\n",
       "\\item 1\n",
       "\\item 2\n",
       "\\item 3\n",
       "\\item 4\n",
       "\\item 5\n",
       "\\item 6\n",
       "\\item 7\n",
       "\\item 8\n",
       "\\item 9\n",
       "\\item 10\n",
       "\\item 12\n",
       "\\item 40\n",
       "\\item 8.2\n",
       "\\item 109\n",
       "\\item -2\n",
       "\\end{enumerate*}\n"
      ],
      "text/markdown": [
       "1. 1\n",
       "2. 2\n",
       "3. 3\n",
       "4. 4\n",
       "5. 5\n",
       "6. 6\n",
       "7. 7\n",
       "8. 8\n",
       "9. 9\n",
       "10. 10\n",
       "11. 12\n",
       "12. 40\n",
       "13. 8.2\n",
       "14. 109\n",
       "15. -2\n",
       "\n",
       "\n"
      ],
      "text/plain": [
       " [1]   1.0   2.0   3.0   4.0   5.0   6.0   7.0   8.0   9.0  10.0  12.0  40.0\n",
       "[13]   8.2 109.0  -2.0"
      ]
     },
     "metadata": {},
     "output_type": "display_data"
    }
   ],
   "source": [
    "# создадим массив двумя способами \n",
    "array_1 = 1:10\n",
    "array_2 = c(12, 40, 8.2, 109, -2)\n",
    "\n",
    "array_1 \n",
    "array_2\n",
    "\n",
    "#индексация с единицы\n",
    "#обратимся к элементу массива\n",
    "array_1[5]\n",
    "array_2[1:3]\n",
    "array_2[c(2,4)]\n",
    "\n",
    "#конкатенация векторов\n",
    "array_3 = c(array_1, array_2)\n",
    "array_3"
   ]
  },
  {
   "cell_type": "markdown",
   "metadata": {},
   "source": [
    "## Operations with arrays"
   ]
  },
  {
   "cell_type": "code",
   "execution_count": 16,
   "metadata": {
    "vscode": {
     "languageId": "r"
    }
   },
   "outputs": [
    {
     "data": {
      "text/html": [
       "<style>\n",
       ".list-inline {list-style: none; margin:0; padding: 0}\n",
       ".list-inline>li {display: inline-block}\n",
       ".list-inline>li:not(:last-child)::after {content: \"\\00b7\"; padding: 0 .5ex}\n",
       "</style>\n",
       "<ol class=list-inline><li>1</li><li>2</li><li>3</li><li>4</li><li>5</li><li>6</li><li>7</li><li>8</li><li>9</li><li>10</li><li>11</li><li>12</li><li>13</li><li>14</li><li>15</li><li>16</li><li>17</li><li>18</li><li>19</li><li>20</li><li>21</li><li>22</li><li>23</li><li>24</li><li>25</li><li>26</li><li>27</li><li>28</li><li>29</li><li>30</li></ol>\n"
      ],
      "text/latex": [
       "\\begin{enumerate*}\n",
       "\\item 1\n",
       "\\item 2\n",
       "\\item 3\n",
       "\\item 4\n",
       "\\item 5\n",
       "\\item 6\n",
       "\\item 7\n",
       "\\item 8\n",
       "\\item 9\n",
       "\\item 10\n",
       "\\item 11\n",
       "\\item 12\n",
       "\\item 13\n",
       "\\item 14\n",
       "\\item 15\n",
       "\\item 16\n",
       "\\item 17\n",
       "\\item 18\n",
       "\\item 19\n",
       "\\item 20\n",
       "\\item 21\n",
       "\\item 22\n",
       "\\item 23\n",
       "\\item 24\n",
       "\\item 25\n",
       "\\item 26\n",
       "\\item 27\n",
       "\\item 28\n",
       "\\item 29\n",
       "\\item 30\n",
       "\\end{enumerate*}\n"
      ],
      "text/markdown": [
       "1. 1\n",
       "2. 2\n",
       "3. 3\n",
       "4. 4\n",
       "5. 5\n",
       "6. 6\n",
       "7. 7\n",
       "8. 8\n",
       "9. 9\n",
       "10. 10\n",
       "11. 11\n",
       "12. 12\n",
       "13. 13\n",
       "14. 14\n",
       "15. 15\n",
       "16. 16\n",
       "17. 17\n",
       "18. 18\n",
       "19. 19\n",
       "20. 20\n",
       "21. 21\n",
       "22. 22\n",
       "23. 23\n",
       "24. 24\n",
       "25. 25\n",
       "26. 26\n",
       "27. 27\n",
       "28. 28\n",
       "29. 29\n",
       "30. 30\n",
       "\n",
       "\n"
      ],
      "text/plain": [
       " [1]  1  2  3  4  5  6  7  8  9 10 11 12 13 14 15 16 17 18 19 20 21 22 23 24 25\n",
       "[26] 26 27 28 29 30"
      ]
     },
     "metadata": {},
     "output_type": "display_data"
    },
    {
     "data": {
      "text/html": [
       "<style>\n",
       ".list-inline {list-style: none; margin:0; padding: 0}\n",
       ".list-inline>li {display: inline-block}\n",
       ".list-inline>li:not(:last-child)::after {content: \"\\00b7\"; padding: 0 .5ex}\n",
       "</style>\n",
       "<ol class=list-inline><li>1</li><li>2</li><li>6547</li><li>23453</li><li>0</li><li>2345</li><li>-34</li></ol>\n"
      ],
      "text/latex": [
       "\\begin{enumerate*}\n",
       "\\item 1\n",
       "\\item 2\n",
       "\\item 6547\n",
       "\\item 23453\n",
       "\\item 0\n",
       "\\item 2345\n",
       "\\item -34\n",
       "\\end{enumerate*}\n"
      ],
      "text/markdown": [
       "1. 1\n",
       "2. 2\n",
       "3. 6547\n",
       "4. 23453\n",
       "5. 0\n",
       "6. 2345\n",
       "7. -34\n",
       "\n",
       "\n"
      ],
      "text/plain": [
       "[1]     1     2  6547 23453     0  2345   -34"
      ]
     },
     "metadata": {},
     "output_type": "display_data"
    },
    {
     "data": {
      "text/html": [
       "<style>\n",
       ".list-inline {list-style: none; margin:0; padding: 0}\n",
       ".list-inline>li {display: inline-block}\n",
       ".list-inline>li:not(:last-child)::after {content: \"\\00b7\"; padding: 0 .5ex}\n",
       "</style>\n",
       "<ol class=list-inline><li>TRUE</li><li>TRUE</li><li>TRUE</li><li>TRUE</li><li>TRUE</li><li>TRUE</li><li>TRUE</li><li>TRUE</li><li>TRUE</li><li>FALSE</li><li>FALSE</li><li>FALSE</li><li>FALSE</li><li>FALSE</li><li>FALSE</li><li>FALSE</li><li>FALSE</li><li>FALSE</li><li>FALSE</li><li>FALSE</li><li>FALSE</li><li>FALSE</li><li>FALSE</li><li>FALSE</li><li>FALSE</li><li>FALSE</li><li>FALSE</li><li>FALSE</li><li>FALSE</li><li>FALSE</li></ol>\n"
      ],
      "text/latex": [
       "\\begin{enumerate*}\n",
       "\\item TRUE\n",
       "\\item TRUE\n",
       "\\item TRUE\n",
       "\\item TRUE\n",
       "\\item TRUE\n",
       "\\item TRUE\n",
       "\\item TRUE\n",
       "\\item TRUE\n",
       "\\item TRUE\n",
       "\\item FALSE\n",
       "\\item FALSE\n",
       "\\item FALSE\n",
       "\\item FALSE\n",
       "\\item FALSE\n",
       "\\item FALSE\n",
       "\\item FALSE\n",
       "\\item FALSE\n",
       "\\item FALSE\n",
       "\\item FALSE\n",
       "\\item FALSE\n",
       "\\item FALSE\n",
       "\\item FALSE\n",
       "\\item FALSE\n",
       "\\item FALSE\n",
       "\\item FALSE\n",
       "\\item FALSE\n",
       "\\item FALSE\n",
       "\\item FALSE\n",
       "\\item FALSE\n",
       "\\item FALSE\n",
       "\\end{enumerate*}\n"
      ],
      "text/markdown": [
       "1. TRUE\n",
       "2. TRUE\n",
       "3. TRUE\n",
       "4. TRUE\n",
       "5. TRUE\n",
       "6. TRUE\n",
       "7. TRUE\n",
       "8. TRUE\n",
       "9. TRUE\n",
       "10. FALSE\n",
       "11. FALSE\n",
       "12. FALSE\n",
       "13. FALSE\n",
       "14. FALSE\n",
       "15. FALSE\n",
       "16. FALSE\n",
       "17. FALSE\n",
       "18. FALSE\n",
       "19. FALSE\n",
       "20. FALSE\n",
       "21. FALSE\n",
       "22. FALSE\n",
       "23. FALSE\n",
       "24. FALSE\n",
       "25. FALSE\n",
       "26. FALSE\n",
       "27. FALSE\n",
       "28. FALSE\n",
       "29. FALSE\n",
       "30. FALSE\n",
       "\n",
       "\n"
      ],
      "text/plain": [
       " [1]  TRUE  TRUE  TRUE  TRUE  TRUE  TRUE  TRUE  TRUE  TRUE FALSE FALSE FALSE\n",
       "[13] FALSE FALSE FALSE FALSE FALSE FALSE FALSE FALSE FALSE FALSE FALSE FALSE\n",
       "[25] FALSE FALSE FALSE FALSE FALSE FALSE"
      ]
     },
     "metadata": {},
     "output_type": "display_data"
    },
    {
     "data": {
      "text/html": [
       "<style>\n",
       ".list-inline {list-style: none; margin:0; padding: 0}\n",
       ".list-inline>li {display: inline-block}\n",
       ".list-inline>li:not(:last-child)::after {content: \"\\00b7\"; padding: 0 .5ex}\n",
       "</style>\n",
       "<ol class=list-inline><li>1</li><li>2</li><li>3</li><li>4</li><li>5</li><li>6</li><li>7</li><li>8</li><li>9</li></ol>\n"
      ],
      "text/latex": [
       "\\begin{enumerate*}\n",
       "\\item 1\n",
       "\\item 2\n",
       "\\item 3\n",
       "\\item 4\n",
       "\\item 5\n",
       "\\item 6\n",
       "\\item 7\n",
       "\\item 8\n",
       "\\item 9\n",
       "\\end{enumerate*}\n"
      ],
      "text/markdown": [
       "1. 1\n",
       "2. 2\n",
       "3. 3\n",
       "4. 4\n",
       "5. 5\n",
       "6. 6\n",
       "7. 7\n",
       "8. 8\n",
       "9. 9\n",
       "\n",
       "\n"
      ],
      "text/plain": [
       "[1] 1 2 3 4 5 6 7 8 9"
      ]
     },
     "metadata": {},
     "output_type": "display_data"
    },
    {
     "data": {
      "text/html": [
       "32345"
      ],
      "text/latex": [
       "32345"
      ],
      "text/markdown": [
       "32345"
      ],
      "text/plain": [
       "[1] 32345"
      ]
     },
     "metadata": {},
     "output_type": "display_data"
    }
   ],
   "source": [
    "# denote vecors\n",
    "vector_1 = 1:30\n",
    "vector_2 = c(1,2,6547,23453,0,2345,-34)\n",
    "\n",
    "# show vectors\n",
    "vector_1\n",
    "vector_2\n",
    "\n",
    "# logical operations with vectors\n",
    "# 1 -- \"<\"\n",
    "vector_1 < 10\n",
    "\n",
    "\n",
    "# 2 show values from vector which satisfy the condition \"value < 10\"\n",
    "vector_1[vector_1 < 10]\n",
    "\n",
    "\n",
    "# small analysis\n",
    "# find sum of vector's elements which are higher than 10\n",
    "my_sum = sum(vector_2[vector_2 > 10])\n",
    "my_sum\n",
    "\n"
   ]
  },
  {
   "cell_type": "markdown",
   "metadata": {},
   "source": [
    "## Lists and Data frames"
   ]
  },
  {
   "cell_type": "code",
   "execution_count": 17,
   "metadata": {
    "vscode": {
     "languageId": "r"
    }
   },
   "outputs": [
    {
     "data": {
      "text/html": [
       "<ol>\n",
       "\t<li><style>\n",
       ".list-inline {list-style: none; margin:0; padding: 0}\n",
       ".list-inline>li {display: inline-block}\n",
       ".list-inline>li:not(:last-child)::after {content: \"\\00b7\"; padding: 0 .5ex}\n",
       "</style>\n",
       "<ol class=list-inline><li>17</li><li>18</li><li>45</li></ol>\n",
       "</li>\n",
       "\t<li><style>\n",
       ".list-inline {list-style: none; margin:0; padding: 0}\n",
       ".list-inline>li {display: inline-block}\n",
       ".list-inline>li:not(:last-child)::after {content: \"\\00b7\"; padding: 0 .5ex}\n",
       "</style>\n",
       "<ol class=list-inline><li>TRUE</li><li>FALSE</li><li>TRUE</li></ol>\n",
       "</li>\n",
       "\t<li><style>\n",
       ".list-inline {list-style: none; margin:0; padding: 0}\n",
       ".list-inline>li {display: inline-block}\n",
       ".list-inline>li:not(:last-child)::after {content: \"\\00b7\"; padding: 0 .5ex}\n",
       "</style>\n",
       "<ol class=list-inline><li>'Maria'</li><li>'Nastya'</li><li>'Ivan'</li></ol>\n",
       "</li>\n",
       "</ol>\n"
      ],
      "text/latex": [
       "\\begin{enumerate}\n",
       "\\item \\begin{enumerate*}\n",
       "\\item 17\n",
       "\\item 18\n",
       "\\item 45\n",
       "\\end{enumerate*}\n",
       "\n",
       "\\item \\begin{enumerate*}\n",
       "\\item TRUE\n",
       "\\item FALSE\n",
       "\\item TRUE\n",
       "\\end{enumerate*}\n",
       "\n",
       "\\item \\begin{enumerate*}\n",
       "\\item 'Maria'\n",
       "\\item 'Nastya'\n",
       "\\item 'Ivan'\n",
       "\\end{enumerate*}\n",
       "\n",
       "\\end{enumerate}\n"
      ],
      "text/markdown": [
       "1. 1. 17\n",
       "2. 18\n",
       "3. 45\n",
       "\n",
       "\n",
       "\n",
       "2. 1. TRUE\n",
       "2. FALSE\n",
       "3. TRUE\n",
       "\n",
       "\n",
       "\n",
       "3. 1. 'Maria'\n",
       "2. 'Nastya'\n",
       "3. 'Ivan'\n",
       "\n",
       "\n",
       "\n",
       "\n",
       "\n"
      ],
      "text/plain": [
       "[[1]]\n",
       "[1] 17 18 45\n",
       "\n",
       "[[2]]\n",
       "[1]  TRUE FALSE  TRUE\n",
       "\n",
       "[[3]]\n",
       "[1] \"Maria\"  \"Nastya\" \"Ivan\"  \n"
      ]
     },
     "metadata": {},
     "output_type": "display_data"
    },
    {
     "data": {
      "text/html": [
       "<ol>\n",
       "\t<li><style>\n",
       ".list-inline {list-style: none; margin:0; padding: 0}\n",
       ".list-inline>li {display: inline-block}\n",
       ".list-inline>li:not(:last-child)::after {content: \"\\00b7\"; padding: 0 .5ex}\n",
       "</style>\n",
       "<ol class=list-inline><li>17</li><li>18</li><li>45</li></ol>\n",
       "</li>\n",
       "</ol>\n"
      ],
      "text/latex": [
       "\\begin{enumerate}\n",
       "\\item \\begin{enumerate*}\n",
       "\\item 17\n",
       "\\item 18\n",
       "\\item 45\n",
       "\\end{enumerate*}\n",
       "\n",
       "\\end{enumerate}\n"
      ],
      "text/markdown": [
       "1. 1. 17\n",
       "2. 18\n",
       "3. 45\n",
       "\n",
       "\n",
       "\n",
       "\n",
       "\n"
      ],
      "text/plain": [
       "[[1]]\n",
       "[1] 17 18 45\n"
      ]
     },
     "metadata": {},
     "output_type": "display_data"
    },
    {
     "data": {
      "text/html": [
       "TRUE"
      ],
      "text/latex": [
       "TRUE"
      ],
      "text/markdown": [
       "TRUE"
      ],
      "text/plain": [
       "[1] TRUE"
      ]
     },
     "metadata": {},
     "output_type": "display_data"
    },
    {
     "data": {
      "text/html": [
       "<table class=\"dataframe\">\n",
       "<caption>A data.frame: 3 × 3</caption>\n",
       "<thead>\n",
       "\t<tr><th scope=col>Name</th><th scope=col>Age</th><th scope=col>Status</th></tr>\n",
       "\t<tr><th scope=col>&lt;chr&gt;</th><th scope=col>&lt;dbl&gt;</th><th scope=col>&lt;lgl&gt;</th></tr>\n",
       "</thead>\n",
       "<tbody>\n",
       "\t<tr><td>Maria </td><td>17</td><td> TRUE</td></tr>\n",
       "\t<tr><td>Nastya</td><td>18</td><td>FALSE</td></tr>\n",
       "\t<tr><td>Ivan  </td><td>45</td><td> TRUE</td></tr>\n",
       "</tbody>\n",
       "</table>\n"
      ],
      "text/latex": [
       "A data.frame: 3 × 3\n",
       "\\begin{tabular}{lll}\n",
       " Name & Age & Status\\\\\n",
       " <chr> & <dbl> & <lgl>\\\\\n",
       "\\hline\n",
       "\t Maria  & 17 &  TRUE\\\\\n",
       "\t Nastya & 18 & FALSE\\\\\n",
       "\t Ivan   & 45 &  TRUE\\\\\n",
       "\\end{tabular}\n"
      ],
      "text/markdown": [
       "\n",
       "A data.frame: 3 × 3\n",
       "\n",
       "| Name &lt;chr&gt; | Age &lt;dbl&gt; | Status &lt;lgl&gt; |\n",
       "|---|---|---|\n",
       "| Maria  | 17 |  TRUE |\n",
       "| Nastya | 18 | FALSE |\n",
       "| Ivan   | 45 |  TRUE |\n",
       "\n"
      ],
      "text/plain": [
       "  Name   Age Status\n",
       "1 Maria  17   TRUE \n",
       "2 Nastya 18  FALSE \n",
       "3 Ivan   45   TRUE "
      ]
     },
     "metadata": {},
     "output_type": "display_data"
    }
   ],
   "source": [
    "age = c(17, 18, 45)\n",
    "is_maried = c(T, F, T)\n",
    "name = c(\"Maria\", \"Nastya\", \"Ivan\")\n",
    "\n",
    "# make list\n",
    "data = list(age, is_maried, name)\n",
    "data\n",
    "\n",
    "# to see element from this list\n",
    "data[1]\n",
    "data[[2]][1]\n",
    "\n",
    "# make dataframe\n",
    "df = data.frame(Name = name, Age = age, Status = is_maried)\n",
    "df"
   ]
  }
 ],
 "metadata": {
  "kernelspec": {
   "display_name": "R",
   "language": "R",
   "name": "ir"
  },
  "language_info": {
   "codemirror_mode": "r",
   "file_extension": ".r",
   "mimetype": "text/x-r-source",
   "name": "R",
   "pygments_lexer": "r",
   "version": "4.3.1"
  }
 },
 "nbformat": 4,
 "nbformat_minor": 2
}
